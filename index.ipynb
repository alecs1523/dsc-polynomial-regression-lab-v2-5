{
  "cells": [
    {
      "cell_type": "markdown",
      "metadata": {
        "id": "Z5bVKnxYGG6z"
      },
      "source": [
        "# Polynomial Regression - Lab"
      ]
    },
    {
      "cell_type": "markdown",
      "metadata": {
        "id": "jJ-vaLVaGG62"
      },
      "source": [
        "## Introduction"
      ]
    },
    {
      "cell_type": "markdown",
      "metadata": {
        "id": "LWiaO9eLGG63"
      },
      "source": [
        "In this lab, you'll practice your knowledge on adding polynomial terms to your regression model!"
      ]
    },
    {
      "cell_type": "markdown",
      "metadata": {
        "id": "89Fn_k1KGG64"
      },
      "source": [
        "## Objectives"
      ]
    },
    {
      "cell_type": "markdown",
      "metadata": {
        "id": "ojocf2huGG65"
      },
      "source": [
        "You will be able to:\n",
        "\n",
        "* Determine if polynomial regression would be useful for a specific model or set of data\n",
        "* Create polynomial terms out of independent variables in linear regression"
      ]
    },
    {
      "cell_type": "markdown",
      "metadata": {
        "id": "8bAhmCueGG66"
      },
      "source": [
        "## Dataset"
      ]
    },
    {
      "cell_type": "markdown",
      "metadata": {
        "id": "6iF3qHPjGG67"
      },
      "source": [
        "For this lab you'll be using some generated data:"
      ]
    },
    {
      "cell_type": "code",
      "execution_count": 25,
      "metadata": {
        "id": "oIQqLD9jGG67",
        "outputId": "d30767ad-f36c-4321-bc3b-74147f8b92f4",
        "colab": {
          "base_uri": "https://localhost:8080/",
          "height": 206
        }
      },
      "outputs": [
        {
          "output_type": "execute_result",
          "data": {
            "text/plain": [
              "          x         y\n",
              "0  0.000000  0.942870\n",
              "1  0.121212 -2.261629\n",
              "2  0.242424  3.100749\n",
              "3  0.363636 -0.285446\n",
              "4  0.484848 -1.012210"
            ],
            "text/html": [
              "\n",
              "  <div id=\"df-30db6311-dd3b-4f45-b279-51fcee78d515\" class=\"colab-df-container\">\n",
              "    <div>\n",
              "<style scoped>\n",
              "    .dataframe tbody tr th:only-of-type {\n",
              "        vertical-align: middle;\n",
              "    }\n",
              "\n",
              "    .dataframe tbody tr th {\n",
              "        vertical-align: top;\n",
              "    }\n",
              "\n",
              "    .dataframe thead th {\n",
              "        text-align: right;\n",
              "    }\n",
              "</style>\n",
              "<table border=\"1\" class=\"dataframe\">\n",
              "  <thead>\n",
              "    <tr style=\"text-align: right;\">\n",
              "      <th></th>\n",
              "      <th>x</th>\n",
              "      <th>y</th>\n",
              "    </tr>\n",
              "  </thead>\n",
              "  <tbody>\n",
              "    <tr>\n",
              "      <th>0</th>\n",
              "      <td>0.000000</td>\n",
              "      <td>0.942870</td>\n",
              "    </tr>\n",
              "    <tr>\n",
              "      <th>1</th>\n",
              "      <td>0.121212</td>\n",
              "      <td>-2.261629</td>\n",
              "    </tr>\n",
              "    <tr>\n",
              "      <th>2</th>\n",
              "      <td>0.242424</td>\n",
              "      <td>3.100749</td>\n",
              "    </tr>\n",
              "    <tr>\n",
              "      <th>3</th>\n",
              "      <td>0.363636</td>\n",
              "      <td>-0.285446</td>\n",
              "    </tr>\n",
              "    <tr>\n",
              "      <th>4</th>\n",
              "      <td>0.484848</td>\n",
              "      <td>-1.012210</td>\n",
              "    </tr>\n",
              "  </tbody>\n",
              "</table>\n",
              "</div>\n",
              "    <div class=\"colab-df-buttons\">\n",
              "\n",
              "  <div class=\"colab-df-container\">\n",
              "    <button class=\"colab-df-convert\" onclick=\"convertToInteractive('df-30db6311-dd3b-4f45-b279-51fcee78d515')\"\n",
              "            title=\"Convert this dataframe to an interactive table.\"\n",
              "            style=\"display:none;\">\n",
              "\n",
              "  <svg xmlns=\"http://www.w3.org/2000/svg\" height=\"24px\" viewBox=\"0 -960 960 960\">\n",
              "    <path d=\"M120-120v-720h720v720H120Zm60-500h600v-160H180v160Zm220 220h160v-160H400v160Zm0 220h160v-160H400v160ZM180-400h160v-160H180v160Zm440 0h160v-160H620v160ZM180-180h160v-160H180v160Zm440 0h160v-160H620v160Z\"/>\n",
              "  </svg>\n",
              "    </button>\n",
              "\n",
              "  <style>\n",
              "    .colab-df-container {\n",
              "      display:flex;\n",
              "      gap: 12px;\n",
              "    }\n",
              "\n",
              "    .colab-df-convert {\n",
              "      background-color: #E8F0FE;\n",
              "      border: none;\n",
              "      border-radius: 50%;\n",
              "      cursor: pointer;\n",
              "      display: none;\n",
              "      fill: #1967D2;\n",
              "      height: 32px;\n",
              "      padding: 0 0 0 0;\n",
              "      width: 32px;\n",
              "    }\n",
              "\n",
              "    .colab-df-convert:hover {\n",
              "      background-color: #E2EBFA;\n",
              "      box-shadow: 0px 1px 2px rgba(60, 64, 67, 0.3), 0px 1px 3px 1px rgba(60, 64, 67, 0.15);\n",
              "      fill: #174EA6;\n",
              "    }\n",
              "\n",
              "    .colab-df-buttons div {\n",
              "      margin-bottom: 4px;\n",
              "    }\n",
              "\n",
              "    [theme=dark] .colab-df-convert {\n",
              "      background-color: #3B4455;\n",
              "      fill: #D2E3FC;\n",
              "    }\n",
              "\n",
              "    [theme=dark] .colab-df-convert:hover {\n",
              "      background-color: #434B5C;\n",
              "      box-shadow: 0px 1px 3px 1px rgba(0, 0, 0, 0.15);\n",
              "      filter: drop-shadow(0px 1px 2px rgba(0, 0, 0, 0.3));\n",
              "      fill: #FFFFFF;\n",
              "    }\n",
              "  </style>\n",
              "\n",
              "    <script>\n",
              "      const buttonEl =\n",
              "        document.querySelector('#df-30db6311-dd3b-4f45-b279-51fcee78d515 button.colab-df-convert');\n",
              "      buttonEl.style.display =\n",
              "        google.colab.kernel.accessAllowed ? 'block' : 'none';\n",
              "\n",
              "      async function convertToInteractive(key) {\n",
              "        const element = document.querySelector('#df-30db6311-dd3b-4f45-b279-51fcee78d515');\n",
              "        const dataTable =\n",
              "          await google.colab.kernel.invokeFunction('convertToInteractive',\n",
              "                                                    [key], {});\n",
              "        if (!dataTable) return;\n",
              "\n",
              "        const docLinkHtml = 'Like what you see? Visit the ' +\n",
              "          '<a target=\"_blank\" href=https://colab.research.google.com/notebooks/data_table.ipynb>data table notebook</a>'\n",
              "          + ' to learn more about interactive tables.';\n",
              "        element.innerHTML = '';\n",
              "        dataTable['output_type'] = 'display_data';\n",
              "        await google.colab.output.renderOutput(dataTable, element);\n",
              "        const docLink = document.createElement('div');\n",
              "        docLink.innerHTML = docLinkHtml;\n",
              "        element.appendChild(docLink);\n",
              "      }\n",
              "    </script>\n",
              "  </div>\n",
              "\n",
              "\n",
              "<div id=\"df-50fda41e-6f9f-4e0c-88c0-11074dd91d86\">\n",
              "  <button class=\"colab-df-quickchart\" onclick=\"quickchart('df-50fda41e-6f9f-4e0c-88c0-11074dd91d86')\"\n",
              "            title=\"Suggest charts\"\n",
              "            style=\"display:none;\">\n",
              "\n",
              "<svg xmlns=\"http://www.w3.org/2000/svg\" height=\"24px\"viewBox=\"0 0 24 24\"\n",
              "     width=\"24px\">\n",
              "    <g>\n",
              "        <path d=\"M19 3H5c-1.1 0-2 .9-2 2v14c0 1.1.9 2 2 2h14c1.1 0 2-.9 2-2V5c0-1.1-.9-2-2-2zM9 17H7v-7h2v7zm4 0h-2V7h2v10zm4 0h-2v-4h2v4z\"/>\n",
              "    </g>\n",
              "</svg>\n",
              "  </button>\n",
              "\n",
              "<style>\n",
              "  .colab-df-quickchart {\n",
              "      --bg-color: #E8F0FE;\n",
              "      --fill-color: #1967D2;\n",
              "      --hover-bg-color: #E2EBFA;\n",
              "      --hover-fill-color: #174EA6;\n",
              "      --disabled-fill-color: #AAA;\n",
              "      --disabled-bg-color: #DDD;\n",
              "  }\n",
              "\n",
              "  [theme=dark] .colab-df-quickchart {\n",
              "      --bg-color: #3B4455;\n",
              "      --fill-color: #D2E3FC;\n",
              "      --hover-bg-color: #434B5C;\n",
              "      --hover-fill-color: #FFFFFF;\n",
              "      --disabled-bg-color: #3B4455;\n",
              "      --disabled-fill-color: #666;\n",
              "  }\n",
              "\n",
              "  .colab-df-quickchart {\n",
              "    background-color: var(--bg-color);\n",
              "    border: none;\n",
              "    border-radius: 50%;\n",
              "    cursor: pointer;\n",
              "    display: none;\n",
              "    fill: var(--fill-color);\n",
              "    height: 32px;\n",
              "    padding: 0;\n",
              "    width: 32px;\n",
              "  }\n",
              "\n",
              "  .colab-df-quickchart:hover {\n",
              "    background-color: var(--hover-bg-color);\n",
              "    box-shadow: 0 1px 2px rgba(60, 64, 67, 0.3), 0 1px 3px 1px rgba(60, 64, 67, 0.15);\n",
              "    fill: var(--button-hover-fill-color);\n",
              "  }\n",
              "\n",
              "  .colab-df-quickchart-complete:disabled,\n",
              "  .colab-df-quickchart-complete:disabled:hover {\n",
              "    background-color: var(--disabled-bg-color);\n",
              "    fill: var(--disabled-fill-color);\n",
              "    box-shadow: none;\n",
              "  }\n",
              "\n",
              "  .colab-df-spinner {\n",
              "    border: 2px solid var(--fill-color);\n",
              "    border-color: transparent;\n",
              "    border-bottom-color: var(--fill-color);\n",
              "    animation:\n",
              "      spin 1s steps(1) infinite;\n",
              "  }\n",
              "\n",
              "  @keyframes spin {\n",
              "    0% {\n",
              "      border-color: transparent;\n",
              "      border-bottom-color: var(--fill-color);\n",
              "      border-left-color: var(--fill-color);\n",
              "    }\n",
              "    20% {\n",
              "      border-color: transparent;\n",
              "      border-left-color: var(--fill-color);\n",
              "      border-top-color: var(--fill-color);\n",
              "    }\n",
              "    30% {\n",
              "      border-color: transparent;\n",
              "      border-left-color: var(--fill-color);\n",
              "      border-top-color: var(--fill-color);\n",
              "      border-right-color: var(--fill-color);\n",
              "    }\n",
              "    40% {\n",
              "      border-color: transparent;\n",
              "      border-right-color: var(--fill-color);\n",
              "      border-top-color: var(--fill-color);\n",
              "    }\n",
              "    60% {\n",
              "      border-color: transparent;\n",
              "      border-right-color: var(--fill-color);\n",
              "    }\n",
              "    80% {\n",
              "      border-color: transparent;\n",
              "      border-right-color: var(--fill-color);\n",
              "      border-bottom-color: var(--fill-color);\n",
              "    }\n",
              "    90% {\n",
              "      border-color: transparent;\n",
              "      border-bottom-color: var(--fill-color);\n",
              "    }\n",
              "  }\n",
              "</style>\n",
              "\n",
              "  <script>\n",
              "    async function quickchart(key) {\n",
              "      const quickchartButtonEl =\n",
              "        document.querySelector('#' + key + ' button');\n",
              "      quickchartButtonEl.disabled = true;  // To prevent multiple clicks.\n",
              "      quickchartButtonEl.classList.add('colab-df-spinner');\n",
              "      try {\n",
              "        const charts = await google.colab.kernel.invokeFunction(\n",
              "            'suggestCharts', [key], {});\n",
              "      } catch (error) {\n",
              "        console.error('Error during call to suggestCharts:', error);\n",
              "      }\n",
              "      quickchartButtonEl.classList.remove('colab-df-spinner');\n",
              "      quickchartButtonEl.classList.add('colab-df-quickchart-complete');\n",
              "    }\n",
              "    (() => {\n",
              "      let quickchartButtonEl =\n",
              "        document.querySelector('#df-50fda41e-6f9f-4e0c-88c0-11074dd91d86 button');\n",
              "      quickchartButtonEl.style.display =\n",
              "        google.colab.kernel.accessAllowed ? 'block' : 'none';\n",
              "    })();\n",
              "  </script>\n",
              "</div>\n",
              "\n",
              "    </div>\n",
              "  </div>\n"
            ],
            "application/vnd.google.colaboratory.intrinsic+json": {
              "type": "dataframe",
              "variable_name": "df",
              "summary": "{\n  \"name\": \"df\",\n  \"rows\": 100,\n  \"fields\": [\n    {\n      \"column\": \"x\",\n      \"properties\": {\n        \"dtype\": \"number\",\n        \"std\": 3.516544481925093,\n        \"min\": 0.0,\n        \"max\": 12.0,\n        \"num_unique_values\": 100,\n        \"samples\": [\n          10.06060606060606,\n          6.424242424242425,\n          8.484848484848484\n        ],\n        \"semantic_type\": \"\",\n        \"description\": \"\"\n      }\n    },\n    {\n      \"column\": \"y\",\n      \"properties\": {\n        \"dtype\": \"number\",\n        \"std\": 4.878958943319209,\n        \"min\": -16.195200274544874,\n        \"max\": 9.17366329371878,\n        \"num_unique_values\": 100,\n        \"samples\": [\n          -7.789303435459762,\n          6.158599996007003,\n          -6.575615673211183\n        ],\n        \"semantic_type\": \"\",\n        \"description\": \"\"\n      }\n    }\n  ]\n}"
            }
          },
          "metadata": {},
          "execution_count": 25
        }
      ],
      "source": [
        "# Run this cell without changes\n",
        "import numpy as np\n",
        "import pandas as pd\n",
        "import matplotlib.pyplot as plt\n",
        "from sklearn.preprocessing import PolynomialFeatures\n",
        "%matplotlib inline\n",
        "\n",
        "df = pd.read_csv('https://raw.githubusercontent.com/alecs1523/dsc-polynomial-regression-lab-v2-5/master/sample_data.csv')\n",
        "df.head()"
      ]
    },
    {
      "cell_type": "markdown",
      "metadata": {
        "id": "D5Jw4BlEGG69"
      },
      "source": [
        "Let's check out a scatter plot of `x` vs. `y`:"
      ]
    },
    {
      "cell_type": "code",
      "execution_count": 26,
      "metadata": {
        "id": "HZQyUZWZGG69",
        "outputId": "e27e9a05-a615-4753-abd0-60b95fe9e34d",
        "colab": {
          "base_uri": "https://localhost:8080/",
          "height": 449
        }
      },
      "outputs": [
        {
          "output_type": "display_data",
          "data": {
            "text/plain": [
              "<Figure size 640x480 with 1 Axes>"
            ],
            "image/png": "[encoded data removed]"
          },
          "metadata": {}
        }
      ],
      "source": [
        "# Run this cell without changes\n",
        "df.plot.scatter(x=\"x\", y=\"y\");"
      ]
    },
    {
      "cell_type": "markdown",
      "metadata": {
        "id": "8TLM2aJ7GG6-"
      },
      "source": [
        "You will notice that the data is clearly of non-linear shape. Begin to think about what degree polynomial you believe will fit it best.\n",
        "\n",
        "You will fit several different models with different polynomial degrees, then plot them in the same plot at the end."
      ]
    },
    {
      "cell_type": "code",
      "execution_count": 27,
      "metadata": {
        "id": "YDvWfgXmGG6-"
      },
      "outputs": [],
      "source": [
        "# Your code here - import StatsModels and separate the data into X and y\n",
        "import statsmodels.api as sm\n",
        "X = df['x']\n",
        "y = df['y']\n"
      ]
    },
    {
      "cell_type": "markdown",
      "metadata": {
        "id": "aEpzzfUBGG6-"
      },
      "source": [
        "## Build and Evaluate a Quadratic Model\n",
        "\n",
        "This model should include a constant, `x`, and `x` squared. You can use `pandas` or `PolynomialFeatures` to create the squared term."
      ]
    },
    {
      "cell_type": "code",
      "execution_count": 28,
      "metadata": {
        "id": "Mq6mYiLNGG6-"
      },
      "outputs": [],
      "source": [
        "# Your code here - prepare quadratic data and fit a model\n",
        "df_quad = df.copy()\n",
        "X = df_quad.drop(columns='y',axis=1)\n",
        "df_quad['X_sq'] = df_quad['x'] **2\n"
      ]
    },
    {
      "cell_type": "code",
      "source": [
        "# Using polynomial features\n",
        "\n",
        "poly_2 = PolynomialFeatures(degree=2)\n",
        "x_2 = pd.DataFrame(poly_2.fit_transform(X), columns=poly_2.get_feature_names_out([\"x\"]))\n",
        "poly_results = sm.OLS(y, x_2).fit()"
      ],
      "metadata": {
        "id": "9xDIu9y7KhGQ"
      },
      "execution_count": 36,
      "outputs": []
    },
    {
      "cell_type": "code",
      "source": [
        "poly_results.rsquared_adj"
      ],
      "metadata": {
        "id": "EN-b9s8xN7IG",
        "outputId": "00054b8e-cb93-4655-f01b-02f084d0bb0c",
        "colab": {
          "base_uri": "https://localhost:8080/"
        }
      },
      "execution_count": 37,
      "outputs": [
        {
          "output_type": "execute_result",
          "data": {
            "text/plain": [
              "-0.015664188856822747"
            ]
          },
          "metadata": {},
          "execution_count": 37
        }
      ]
    },
    {
      "cell_type": "code",
      "execution_count": 38,
      "metadata": {
        "id": "sUjFv31hGG6_",
        "outputId": "9a4deecd-0b89-4bc9-9591-a744c573431c",
        "colab": {
          "base_uri": "https://localhost:8080/",
          "height": 178
        }
      },
      "outputs": [
        {
          "output_type": "execute_result",
          "data": {
            "text/plain": [
              "1      0.938055\n",
              "x      0.893974\n",
              "x^2    0.967420\n",
              "dtype: float64"
            ],
            "text/html": [
              "<div>\n",
              "<style scoped>\n",
              "    .dataframe tbody tr th:only-of-type {\n",
              "        vertical-align: middle;\n",
              "    }\n",
              "\n",
              "    .dataframe tbody tr th {\n",
              "        vertical-align: top;\n",
              "    }\n",
              "\n",
              "    .dataframe thead th {\n",
              "        text-align: right;\n",
              "    }\n",
              "</style>\n",
              "<table border=\"1\" class=\"dataframe\">\n",
              "  <thead>\n",
              "    <tr style=\"text-align: right;\">\n",
              "      <th></th>\n",
              "      <th>0</th>\n",
              "    </tr>\n",
              "  </thead>\n",
              "  <tbody>\n",
              "    <tr>\n",
              "      <th>1</th>\n",
              "      <td>0.938055</td>\n",
              "    </tr>\n",
              "    <tr>\n",
              "      <th>x</th>\n",
              "      <td>0.893974</td>\n",
              "    </tr>\n",
              "    <tr>\n",
              "      <th>x^2</th>\n",
              "      <td>0.967420</td>\n",
              "    </tr>\n",
              "  </tbody>\n",
              "</table>\n",
              "</div><br><label><b>dtype:</b> float64</label>"
            ]
          },
          "metadata": {},
          "execution_count": 38
        }
      ],
      "source": [
        "# Your code here - evaluate (adjusted) R-Squared and coefficient p-values\n",
        "poly_results.pvalues"
      ]
    },
    {
      "cell_type": "code",
      "source": [
        "squared_results.rsquared_adj"
      ],
      "metadata": {
        "id": "bbxolIEPNHVg",
        "outputId": "904b851a-6d22-4773-8e16-aa4cf0092a8b",
        "colab": {
          "base_uri": "https://localhost:8080/"
        }
      },
      "execution_count": 32,
      "outputs": [
        {
          "output_type": "execute_result",
          "data": {
            "text/plain": [
              "-0.005317648269682396"
            ]
          },
          "metadata": {},
          "execution_count": 32
        }
      ]
    },
    {
      "cell_type": "code",
      "execution_count": null,
      "metadata": {
        "id": "nWV5NizaGG6_"
      },
      "outputs": [],
      "source": [
        "# Your written answer here - summarize findings\n"
      ]
    },
    {
      "cell_type": "markdown",
      "metadata": {
        "id": "sndtl4rNGG6_"
      },
      "source": [
        "<details>\n",
        "    <summary style=\"cursor: pointer\"><b>Answer (click to reveal)</b></summary>\n",
        "    \n",
        "This is not a good model. Because we have multiple terms and are explaining so little of the variance in `y`, we actually have a negative adjusted R-Squared.\n",
        "\n",
        "None of the coefficients are statistically significant at an alpha of 0.05\n",
        "    \n",
        "</details>"
      ]
    },
    {
      "cell_type": "markdown",
      "metadata": {
        "id": "1pI7t0LvGG6_"
      },
      "source": [
        "## Build and Evaluate a 4th Degree Polynomial Model\n",
        "\n",
        "In other words, the model should include $x^0$ (intercept), $x^1$, $x^2$, $x^3$, and $x^4$ terms.\n",
        "\n",
        "At this point we recommend importing and using `PolynomialFeatures` if you haven't already!"
      ]
    },
    {
      "cell_type": "code",
      "execution_count": 42,
      "metadata": {
        "id": "kmTs5Q3wGG6_"
      },
      "outputs": [],
      "source": [
        "# Your code here - prepare 4th degree polynomial data and fit a model\n",
        "poly_4 = PolynomialFeatures(degree=4)\n",
        "x_4 = pd.DataFrame(poly_4.fit_transform(X), columns=poly_4.get_feature_names_out([\"x\"]))\n",
        "squared_results_4 = sm.OLS(y, x_4).fit()"
      ]
    },
    {
      "cell_type": "code",
      "execution_count": 43,
      "metadata": {
        "id": "sUJEm7-qGG6_",
        "outputId": "da433c33-9f8a-4ed2-e682-ae3589975345",
        "colab": {
          "base_uri": "https://localhost:8080/"
        }
      },
      "outputs": [
        {
          "output_type": "execute_result",
          "data": {
            "text/plain": [
              "0.5667967820112216"
            ]
          },
          "metadata": {},
          "execution_count": 43
        }
      ],
      "source": [
        "# Your code here - evaluate (adjusted) R-Squared and coefficient p-values\n",
        "squared_results_4.rsquared_adj"
      ]
    },
    {
      "cell_type": "code",
      "source": [
        "squared_results_4.pvalues"
      ],
      "metadata": {
        "id": "ov0ujjIGQXR_",
        "outputId": "edd317fe-bbd3-464a-ed9c-623516364cb4",
        "colab": {
          "base_uri": "https://localhost:8080/",
          "height": 241
        }
      },
      "execution_count": 44,
      "outputs": [
        {
          "output_type": "execute_result",
          "data": {
            "text/plain": [
              "1      1.995047e-04\n",
              "x      1.738988e-10\n",
              "x^2    3.340296e-14\n",
              "x^3    1.715785e-16\n",
              "x^4    7.408453e-18\n",
              "dtype: float64"
            ],
            "text/html": [
              "<div>\n",
              "<style scoped>\n",
              "    .dataframe tbody tr th:only-of-type {\n",
              "        vertical-align: middle;\n",
              "    }\n",
              "\n",
              "    .dataframe tbody tr th {\n",
              "        vertical-align: top;\n",
              "    }\n",
              "\n",
              "    .dataframe thead th {\n",
              "        text-align: right;\n",
              "    }\n",
              "</style>\n",
              "<table border=\"1\" class=\"dataframe\">\n",
              "  <thead>\n",
              "    <tr style=\"text-align: right;\">\n",
              "      <th></th>\n",
              "      <th>0</th>\n",
              "    </tr>\n",
              "  </thead>\n",
              "  <tbody>\n",
              "    <tr>\n",
              "      <th>1</th>\n",
              "      <td>1.995047e-04</td>\n",
              "    </tr>\n",
              "    <tr>\n",
              "      <th>x</th>\n",
              "      <td>1.738988e-10</td>\n",
              "    </tr>\n",
              "    <tr>\n",
              "      <th>x^2</th>\n",
              "      <td>3.340296e-14</td>\n",
              "    </tr>\n",
              "    <tr>\n",
              "      <th>x^3</th>\n",
              "      <td>1.715785e-16</td>\n",
              "    </tr>\n",
              "    <tr>\n",
              "      <th>x^4</th>\n",
              "      <td>7.408453e-18</td>\n",
              "    </tr>\n",
              "  </tbody>\n",
              "</table>\n",
              "</div><br><label><b>dtype:</b> float64</label>"
            ]
          },
          "metadata": {},
          "execution_count": 44
        }
      ]
    },
    {
      "cell_type": "code",
      "execution_count": null,
      "metadata": {
        "id": "m0B5fSv_GG7A"
      },
      "outputs": [],
      "source": [
        "# Your written answer here - summarize findings\n",
        "# This model is better with a stronger rsquared_adj value around 57%\n",
        "\n",
        "# the pvalues are all statistically significant"
      ]
    },
    {
      "cell_type": "markdown",
      "metadata": {
        "id": "f-8if-X4GG7A"
      },
      "source": [
        "<details>\n",
        "    <summary style=\"cursor: pointer\"><b>Answer (click to reveal)</b></summary>\n",
        "    \n",
        "This is much better. We are explaining 57-58% of the variance in the target and all of our coefficients are statistically significant at an alpha of 0.05.\n",
        "    \n",
        "</details>"
      ]
    },
    {
      "cell_type": "markdown",
      "metadata": {
        "id": "if_FunbNGG7A"
      },
      "source": [
        "## Build and Evaluate an 8th Degree Polynomial Model\n",
        "\n",
        "This model should include $x^0$ through $x^8$."
      ]
    },
    {
      "cell_type": "code",
      "execution_count": 48,
      "metadata": {
        "id": "lcHwTn0eGG7A"
      },
      "outputs": [],
      "source": [
        "# Your code here - prepare 8th degree polynomial data and fit a model\n",
        "poly_8 = PolynomialFeatures(degree=8)\n",
        "x_8 = pd.DataFrame(poly_8.fit_transform(X), columns=poly_8.get_feature_names_out([\"x\"]))\n",
        "squared_results_8 = sm.OLS(y, x_8).fit()"
      ]
    },
    {
      "cell_type": "markdown",
      "source": [],
      "metadata": {
        "id": "1YcBZbOVRGsG"
      }
    },
    {
      "cell_type": "code",
      "execution_count": 50,
      "metadata": {
        "id": "mTzypzErGG7A",
        "outputId": "fc961aa4-8c68-4a95-91d5-b8b150f212f1",
        "colab": {
          "base_uri": "https://localhost:8080/"
        }
      },
      "outputs": [
        {
          "output_type": "execute_result",
          "data": {
            "text/plain": [
              "0.8188676291760172"
            ]
          },
          "metadata": {},
          "execution_count": 50
        }
      ],
      "source": [
        "# Your code here - evaluate (adjusted) R-Squared and coefficient p-values\n",
        "squared_results_8.rsquared_adj"
      ]
    },
    {
      "cell_type": "code",
      "source": [
        "squared_results_8.pvalues"
      ],
      "metadata": {
        "id": "YCY0cbiwRNXS",
        "outputId": "6767ee90-df4a-4ebd-c460-31869ada993a",
        "colab": {
          "base_uri": "https://localhost:8080/",
          "height": 366
        }
      },
      "execution_count": 51,
      "outputs": [
        {
          "output_type": "execute_result",
          "data": {
            "text/plain": [
              "1      0.683776\n",
              "x      0.618134\n",
              "x^2    0.371163\n",
              "x^3    0.199162\n",
              "x^4    0.144776\n",
              "x^5    0.157523\n",
              "x^6    0.225536\n",
              "x^7    0.357352\n",
              "x^8    0.554141\n",
              "dtype: float64"
            ],
            "text/html": [
              "<div>\n",
              "<style scoped>\n",
              "    .dataframe tbody tr th:only-of-type {\n",
              "        vertical-align: middle;\n",
              "    }\n",
              "\n",
              "    .dataframe tbody tr th {\n",
              "        vertical-align: top;\n",
              "    }\n",
              "\n",
              "    .dataframe thead th {\n",
              "        text-align: right;\n",
              "    }\n",
              "</style>\n",
              "<table border=\"1\" class=\"dataframe\">\n",
              "  <thead>\n",
              "    <tr style=\"text-align: right;\">\n",
              "      <th></th>\n",
              "      <th>0</th>\n",
              "    </tr>\n",
              "  </thead>\n",
              "  <tbody>\n",
              "    <tr>\n",
              "      <th>1</th>\n",
              "      <td>0.683776</td>\n",
              "    </tr>\n",
              "    <tr>\n",
              "      <th>x</th>\n",
              "      <td>0.618134</td>\n",
              "    </tr>\n",
              "    <tr>\n",
              "      <th>x^2</th>\n",
              "      <td>0.371163</td>\n",
              "    </tr>\n",
              "    <tr>\n",
              "      <th>x^3</th>\n",
              "      <td>0.199162</td>\n",
              "    </tr>\n",
              "    <tr>\n",
              "      <th>x^4</th>\n",
              "      <td>0.144776</td>\n",
              "    </tr>\n",
              "    <tr>\n",
              "      <th>x^5</th>\n",
              "      <td>0.157523</td>\n",
              "    </tr>\n",
              "    <tr>\n",
              "      <th>x^6</th>\n",
              "      <td>0.225536</td>\n",
              "    </tr>\n",
              "    <tr>\n",
              "      <th>x^7</th>\n",
              "      <td>0.357352</td>\n",
              "    </tr>\n",
              "    <tr>\n",
              "      <th>x^8</th>\n",
              "      <td>0.554141</td>\n",
              "    </tr>\n",
              "  </tbody>\n",
              "</table>\n",
              "</div><br><label><b>dtype:</b> float64</label>"
            ]
          },
          "metadata": {},
          "execution_count": 51
        }
      ]
    },
    {
      "cell_type": "code",
      "execution_count": null,
      "metadata": {
        "id": "zvddhCflGG7A"
      },
      "outputs": [],
      "source": [
        "# Your written answer here - summarize findings\n",
        "# the r2adj value is much higher around 82% but all the pvalues are not statistically significant"
      ]
    },
    {
      "cell_type": "markdown",
      "metadata": {
        "id": "rOAD-nj1GG7A"
      },
      "source": [
        "<details>\n",
        "    <summary style=\"cursor: pointer\"><b>Answer (click to reveal)</b></summary>\n",
        "    \n",
        "Our R-Squared is higher, but none of the coefficients are statistically significant at an alpha of 0.05 any more. If what we care about is an inferential understanding of the data, this is too high a degree of the polynomial.\n",
        "    \n",
        "</details>"
      ]
    },
    {
      "cell_type": "markdown",
      "metadata": {
        "id": "gr1pQiSAGG7A"
      },
      "source": [
        "## Plot All Models\n",
        "\n",
        "Build a single plot that shows the raw data as a scatter plot, as well as all of the models you have developed as line graphs. Make sure that everything is labeled so you can tell the different models apart!"
      ]
    },
    {
      "cell_type": "code",
      "execution_count": 73,
      "metadata": {
        "id": "GYnudy-gGG7A",
        "outputId": "6df61278-ea45-4761-ec17-317d6b4a3531",
        "colab": {
          "base_uri": "https://localhost:8080/",
          "height": 522
        }
      },
      "outputs": [
        {
          "output_type": "display_data",
          "data": {
            "text/plain": [
              "<Figure size 1000x600 with 1 Axes>"
            ],
            "image/png": "[encoded data removed]"
          },
          "metadata": {}
        }
      ],
      "source": [
        "# Your code here\n",
        "fig, ax = plt.subplots(figsize=(10, 6))\n",
        "\n",
        "models = [poly_results, squared_results_4,squared_results_8]\n",
        "data = [x_2,x_4,x_8]\n",
        "colors = ['blue','cyan','green']\n",
        "\n",
        "ax.scatter(X, y, label=\"data points\", color=\"black\")\n",
        "for i, model in enumerate(models):\n",
        "  ax.plot(\n",
        "      X,\n",
        "      model.predict(data[i]),\n",
        "      label=f\"polynomial degree {(i + 1)*2}\", # degree happens to be 2 times (i + 1)\n",
        "        color=colors[i], # select color from list declared earlier\n",
        "        linewidth=5,\n",
        "        alpha=0.7\n",
        "    )\n",
        "  ax.legend();"
      ]
    },
    {
      "cell_type": "markdown",
      "metadata": {
        "id": "I3lG1sHgGG7B"
      },
      "source": [
        "### Interpret Findings\n",
        "\n",
        "Based on the metrics as well as the graphs, which model do you think is the best? Why?"
      ]
    },
    {
      "cell_type": "code",
      "execution_count": null,
      "metadata": {
        "id": "Wdx46huaGG7B"
      },
      "outputs": [],
      "source": [
        "# Your written answer here\n"
      ]
    },
    {
      "cell_type": "markdown",
      "metadata": {
        "id": "2EJ8bPmlGG7B"
      },
      "source": [
        "<details>\n",
        "    <summary style=\"cursor: pointer\"><b>Answer (click to reveal)</b></summary>\n",
        "    \n",
        "The quadratic model (polynomial degree 2) is definitely not the best based on all of the evidence we have. It has the worst R-Squared, the coefficient p-values are not significant, and you can see from the graph that there is a lot of variance in the data that it is not picking up on.\n",
        "\n",
        "Our visual inspection aligns with the worse R-Squared for the 4th degree polynomial compared to the 8th degree polynomial. The 4th degree polynomial is flatter and doesn't seem to capture the extremes of the data as well.\n",
        "    \n",
        "However if we wanted to interpret the coefficients, then only the 4th degree polynomial has statistically significant results. The interpretation would be challenging because of the number of terms, but we could apply some calculus techniques to describe inflection points.\n",
        "\n",
        "Overall it appears that this dataset is not particularly well suited to an inferential linear regression approach, even with polynomial transformations. So the \"best\" model could be either the 4th or 8th degree polynomial depending on which aspect of the model is more important to you, but either way it will be challenging to translate it into insights for stakeholders.\n",
        "    \n",
        "</details>"
      ]
    },
    {
      "cell_type": "markdown",
      "metadata": {
        "id": "67EjFyIjGG7B"
      },
      "source": [
        "## Summary"
      ]
    },
    {
      "cell_type": "markdown",
      "metadata": {
        "id": "GSoB5XbqGG7B"
      },
      "source": [
        "Great job! You now know how to include polynomials in your linear models as well as the limitations of applying polynomial regression."
      ]
    }
  ],
  "metadata": {
    "kernelspec": {
      "display_name": "Python (learn-env)",
      "language": "python",
      "name": "learn-env"
    },
    "language_info": {
      "codemirror_mode": {
        "name": "ipython",
        "version": 3
      },
      "file_extension": ".py",
      "mimetype": "text/x-python",
      "name": "python",
      "nbconvert_exporter": "python",
      "pygments_lexer": "ipython3",
      "version": "3.8.5"
    },
    "colab": {
      "provenance": []
    }
  },
  "nbformat": 4,
  "nbformat_minor": 0
}